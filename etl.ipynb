{
 "cells": [
  {
   "cell_type": "code",
   "execution_count": null,
   "metadata": {},
   "outputs": [],
   "source": [
    "import pandas as pd\n",
    "import numpy as np\n",
    "\n",
    "from db import engine"
   ]
  },
  {
   "cell_type": "code",
   "execution_count": 2,
   "metadata": {},
   "outputs": [],
   "source": [
    "class Etl():\n",
    "\n",
    "    def __init__(self):\n",
    "        \n",
    "        self.geolocation = None\n",
    "        self.customers = None\n",
    "        self.sellers = None\n",
    "        self.orders = None\n",
    "        self.order_reviews = None\n",
    "        self.order_payments = None\n",
    "        self.product_category = None\n",
    "        self.products = None\n",
    "        self.order_items = None\n",
    "        self.marketing_qualified_leads = None\n",
    "        self.close_deals = None\n",
    "    \n",
    "\n",
    "    def extract(self):\n",
    "        \n",
    "        #self.geolocation = pd.read_csv('https://raw.githubusercontent.com/olist/work-at-olist-data/master/datasets/olist_geolocation_dataset.csv')\n",
    "        self.customers = pd.read_csv('https://raw.githubusercontent.com/olist/work-at-olist-data/master/datasets/olist_customers_dataset.csv')\n",
    "        self.sellers = pd.read_csv('https://raw.githubusercontent.com/olist/work-at-olist-data/master/datasets/olist_sellers_dataset.csv')\n",
    "        self.orders = pd.read_csv('https://raw.githubusercontent.com/olist/work-at-olist-data/master/datasets/olist_orders_dataset.csv')\n",
    "        self.order_reviews = pd.read_csv('https://raw.githubusercontent.com/olist/work-at-olist-data/master/datasets/olist_order_reviews_dataset.csv')\n",
    "        self.order_payments = pd.read_csv('https://raw.githubusercontent.com/olist/work-at-olist-data/master/datasets/olist_order_payments_dataset.csv')\n",
    "        self.product_category = pd.read_csv('https://raw.githubusercontent.com/olist/work-at-olist-data/master/datasets/product_category_name_translation.csv')\n",
    "        self.products = pd.read_csv('https://raw.githubusercontent.com/olist/work-at-olist-data/master/datasets/olist_products_dataset.csv')\n",
    "        self.order_items = pd.read_csv('https://raw.githubusercontent.com/olist/work-at-olist-data/master/datasets/olist_order_items_dataset.csv')\n",
    "        self.marketing_qualified_leads = pd.read_csv('datasets\\olist_marketing_qualified_leads_dataset.csv')\n",
    "        self.close_deals = pd.read_csv('datasets\\olist_closed_deals_dataset.csv')\n",
    "\n",
    "\n",
    "    def transform(self, add_product_category=False, validate=False):\n",
    "\n",
    "        self.customers.rename(columns={'customer_zip_code_prefix': 'zip_code_prefix', 'customer_city': 'city', 'customer_state': 'state'}, inplace=True)\n",
    "        self.sellers.rename(columns={'seller_zip_code_prefix': 'zip_code_prefix', 'seller_city': 'city', 'seller_state': 'state'}, inplace=True)\n",
    "\n",
    "        self.geolocation = pd.concat([self.customers[['zip_code_prefix', 'city', 'state']], self.sellers[['zip_code_prefix', 'city', 'state']]], ignore_index=True) \n",
    "        self.geolocation.drop_duplicates(inplace=True)\n",
    "\n",
    "        self.products['product_category_name'].replace({np.nan: 'no_data'}, inplace=True)\n",
    "        self.products.fillna(0, inplace=True)\n",
    "        self.products = self.products.astype({'product_name_lenght': 'int64', 'product_description_lenght': 'int64', 'product_photos_qty': 'int64',\n",
    "            'product_weight_g': 'int64', 'product_length_cm': 'int64', 'product_height_cm': 'int64', 'product_width_cm': 'int64'})\n",
    "\n",
    "        if validate:\n",
    "            geolocationDB = pd.read_sql_table('geolocation', engine.connect())\n",
    "            self.geolocation = geolocationDB.merge(self.geolocation, how='right', on=['zip_code_prefix','city', 'state'])\n",
    "            self.geolocation = self.geolocation[self.geolocation['geolocation_id'].isnull()]\n",
    "            self.geolocation.drop('geolocation_id', axis=1, inplace=True)\n",
    "            self.geolocation.reset_index(drop=True, inplace=True)\n",
    "            self.geolocation.index += (len(geolocationDB) + 1)\n",
    "            self.geolocation = self.geolocation.rename_axis('geolocation_id').reset_index()\n",
    "            geolocationDB = pd.concat([geolocationDB, self.geolocation], ignore_index=True)\n",
    "\n",
    "            self.customers = self.customers.merge(geolocationDB, how='left', on=['zip_code_prefix','city', 'state'])\n",
    "\n",
    "            self.sellers = self.sellers.merge(geolocationDB, how='left', on=['zip_code_prefix','city', 'state'])\n",
    "\n",
    "            if add_product_category and type(add_product_category) == dict:\n",
    "                product_categoryDB = pd.read_sql_table('product_category', engine.connect())\n",
    "                self.product_category = pd.DataFrame(add_product_category)\n",
    "                self.product_category.index += (len(product_categoryDB) + 1)\n",
    "                self.product_category = self.product_category.rename_axis('product_category_id').reset_index()\n",
    "                product_categoryDB = pd.concat([product_categoryDB, self.product_category], ignore_index=True)\n",
    "\n",
    "            self.products = self.products.merge(product_categoryDB, how='left', on=['product_category_name'])\n",
    "\n",
    "        else:\n",
    "            self.geolocation.reset_index(drop=True, inplace=True)\n",
    "            self.geolocation.index += 1\n",
    "            self.geolocation = self.geolocation.rename_axis('geolocation_id').reset_index()\n",
    "\n",
    "            self.customers = self.customers.merge(self.geolocation, how='left', on=['zip_code_prefix','city', 'state'])\n",
    "\n",
    "            self.sellers = self.sellers.merge(self.geolocation, how='left', on=['zip_code_prefix','city', 'state'])\n",
    "\n",
    "            if add_product_category and type(add_product_category) == dict:\n",
    "                add_product_category = pd.DataFrame(add_product_category)\n",
    "                self.product_category = pd.concat([self.product_category, add_product_category], ignore_index=True)\n",
    "            self.product_category.index += 1\n",
    "            self.product_category = self.product_category.rename_axis('product_category_id').reset_index()\n",
    "\n",
    "            self.products = self.products.merge(self.product_category, how='left', on=['product_category_name'])\n",
    "\n",
    "        \n",
    "        self.customers.drop(['customer_unique_id', 'zip_code_prefix', 'city', 'state'], axis=1, inplace=True)\n",
    "        \n",
    "        self.sellers.drop(['zip_code_prefix', 'city', 'state'], axis=1, inplace=True)\n",
    "   \n",
    "        self.orders.fillna('2016-01-01 00:00:00', inplace=True)\n",
    "        self.orders = self.orders.astype({'order_purchase_timestamp': 'datetime64', 'order_approved_at': 'datetime64', 'order_delivered_carrier_date': 'datetime64',\n",
    "            'order_delivered_customer_date': 'datetime64', 'order_estimated_delivery_date': 'datetime64'})\n",
    "\n",
    "        self.order_reviews.drop(['review_comment_title', 'review_comment_message'], axis=1, inplace=True)\n",
    "        self.order_reviews = self.order_reviews.astype({'review_creation_date': 'datetime64', 'review_answer_timestamp': 'datetime64'})\n",
    "        self.order_reviews.rename(columns={'review_id': 'review_code'}, inplace=True)\n",
    "                \n",
    "        self.products.drop(['product_category_name', 'product_category_name_english'], axis=1, inplace=True)\n",
    "\n",
    "        self.order_items.drop(['order_item_id'], axis=1, inplace=True)\n",
    "        self.order_items['shipping_limit_date'] = self.order_items['shipping_limit_date'].astype('datetime64')\n",
    "\n",
    "        self.marketing_qualified_leads.fillna('no_data', inplace=True)\n",
    "        self.marketing_qualified_leads = self.marketing_qualified_leads.astype({'first_contact_date': 'datetime64'})\n",
    "\n",
    "        self.close_deals.drop(['lead_behaviour_profile', 'has_company', 'has_gtin', 'average_stock', 'declared_product_catalog_size'], axis=1, inplace=True)\n",
    "        self.close_deals.fillna('no_data', inplace=True)\n",
    "        self.close_deals = self.close_deals.astype({'won_date': 'datetime64'})\n",
    "\n",
    "\n",
    "    def load(self):\n",
    "\n",
    "        self.geolocation.to_sql('geolocation', engine, if_exists='append', index=False)\n",
    "        self.customers.to_sql('customers', engine, if_exists='append', index=False)\n",
    "        self.sellers.to_sql('sellers', engine, if_exists='append', index=False)\n",
    "        self.orders.to_sql('orders', engine, if_exists='append', index=False)\n",
    "        self.order_reviews.to_sql('order_reviews', engine, if_exists='append', index=False)\n",
    "        self.order_payments.to_sql('order_payments', engine, if_exists='append', index=False)\n",
    "        self.product_category.to_sql('product_category', engine, if_exists='append', index=False)\n",
    "        self.products.to_sql('products', engine, if_exists='append', index=False)\n",
    "        self.order_items.to_sql('order_items', engine, if_exists='append', index=False)\n",
    "        self.marketing_qualified_leads.to_sql('marketing_qualified_leads', engine, if_exists='append', index=False)\n",
    "        self.close_deals.to_sql('close_deals', engine, if_exists='append', index=False)"
   ]
  },
  {
   "cell_type": "code",
   "execution_count": 3,
   "metadata": {},
   "outputs": [],
   "source": [
    "etl = Etl()"
   ]
  },
  {
   "cell_type": "code",
   "execution_count": 4,
   "metadata": {},
   "outputs": [],
   "source": [
    "etl.extract()"
   ]
  },
  {
   "cell_type": "code",
   "execution_count": 5,
   "metadata": {},
   "outputs": [
    {
     "name": "stdout",
     "output_type": "stream",
     "text": [
      "<class 'pandas.core.frame.DataFrame'>\n",
      "RangeIndex: 99441 entries, 0 to 99440\n",
      "Data columns (total 5 columns):\n",
      " #   Column                    Non-Null Count  Dtype \n",
      "---  ------                    --------------  ----- \n",
      " 0   customer_id               99441 non-null  object\n",
      " 1   customer_unique_id        99441 non-null  object\n",
      " 2   customer_zip_code_prefix  99441 non-null  int64 \n",
      " 3   customer_city             99441 non-null  object\n",
      " 4   customer_state            99441 non-null  object\n",
      "dtypes: int64(1), object(4)\n",
      "memory usage: 3.8+ MB\n"
     ]
    }
   ],
   "source": [
    "etl.customers.info()"
   ]
  },
  {
   "cell_type": "code",
   "execution_count": 6,
   "metadata": {},
   "outputs": [
    {
     "name": "stdout",
     "output_type": "stream",
     "text": [
      "<class 'pandas.core.frame.DataFrame'>\n",
      "RangeIndex: 3095 entries, 0 to 3094\n",
      "Data columns (total 4 columns):\n",
      " #   Column                  Non-Null Count  Dtype \n",
      "---  ------                  --------------  ----- \n",
      " 0   seller_id               3095 non-null   object\n",
      " 1   seller_zip_code_prefix  3095 non-null   int64 \n",
      " 2   seller_city             3095 non-null   object\n",
      " 3   seller_state            3095 non-null   object\n",
      "dtypes: int64(1), object(3)\n",
      "memory usage: 96.8+ KB\n"
     ]
    }
   ],
   "source": [
    "etl.sellers.info()"
   ]
  },
  {
   "cell_type": "code",
   "execution_count": 7,
   "metadata": {},
   "outputs": [
    {
     "name": "stdout",
     "output_type": "stream",
     "text": [
      "<class 'pandas.core.frame.DataFrame'>\n",
      "RangeIndex: 99441 entries, 0 to 99440\n",
      "Data columns (total 8 columns):\n",
      " #   Column                         Non-Null Count  Dtype \n",
      "---  ------                         --------------  ----- \n",
      " 0   order_id                       99441 non-null  object\n",
      " 1   customer_id                    99441 non-null  object\n",
      " 2   order_status                   99441 non-null  object\n",
      " 3   order_purchase_timestamp       99441 non-null  object\n",
      " 4   order_approved_at              99281 non-null  object\n",
      " 5   order_delivered_carrier_date   97658 non-null  object\n",
      " 6   order_delivered_customer_date  96476 non-null  object\n",
      " 7   order_estimated_delivery_date  99441 non-null  object\n",
      "dtypes: object(8)\n",
      "memory usage: 6.1+ MB\n"
     ]
    }
   ],
   "source": [
    "etl.orders.info()"
   ]
  },
  {
   "cell_type": "code",
   "execution_count": 8,
   "metadata": {},
   "outputs": [
    {
     "name": "stdout",
     "output_type": "stream",
     "text": [
      "<class 'pandas.core.frame.DataFrame'>\n",
      "RangeIndex: 99224 entries, 0 to 99223\n",
      "Data columns (total 7 columns):\n",
      " #   Column                   Non-Null Count  Dtype \n",
      "---  ------                   --------------  ----- \n",
      " 0   review_id                99224 non-null  object\n",
      " 1   order_id                 99224 non-null  object\n",
      " 2   review_score             99224 non-null  int64 \n",
      " 3   review_comment_title     11568 non-null  object\n",
      " 4   review_comment_message   40977 non-null  object\n",
      " 5   review_creation_date     99224 non-null  object\n",
      " 6   review_answer_timestamp  99224 non-null  object\n",
      "dtypes: int64(1), object(6)\n",
      "memory usage: 5.3+ MB\n"
     ]
    }
   ],
   "source": [
    "etl.order_reviews.info()"
   ]
  },
  {
   "cell_type": "code",
   "execution_count": 9,
   "metadata": {},
   "outputs": [
    {
     "name": "stdout",
     "output_type": "stream",
     "text": [
      "<class 'pandas.core.frame.DataFrame'>\n",
      "RangeIndex: 103886 entries, 0 to 103885\n",
      "Data columns (total 5 columns):\n",
      " #   Column                Non-Null Count   Dtype  \n",
      "---  ------                --------------   -----  \n",
      " 0   order_id              103886 non-null  object \n",
      " 1   payment_sequential    103886 non-null  int64  \n",
      " 2   payment_type          103886 non-null  object \n",
      " 3   payment_installments  103886 non-null  int64  \n",
      " 4   payment_value         103886 non-null  float64\n",
      "dtypes: float64(1), int64(2), object(2)\n",
      "memory usage: 4.0+ MB\n"
     ]
    }
   ],
   "source": [
    "etl.order_payments.info()"
   ]
  },
  {
   "cell_type": "code",
   "execution_count": 10,
   "metadata": {},
   "outputs": [
    {
     "name": "stdout",
     "output_type": "stream",
     "text": [
      "<class 'pandas.core.frame.DataFrame'>\n",
      "RangeIndex: 71 entries, 0 to 70\n",
      "Data columns (total 2 columns):\n",
      " #   Column                         Non-Null Count  Dtype \n",
      "---  ------                         --------------  ----- \n",
      " 0   product_category_name          71 non-null     object\n",
      " 1   product_category_name_english  71 non-null     object\n",
      "dtypes: object(2)\n",
      "memory usage: 1.2+ KB\n"
     ]
    }
   ],
   "source": [
    "etl.product_category.info()"
   ]
  },
  {
   "cell_type": "code",
   "execution_count": 11,
   "metadata": {},
   "outputs": [
    {
     "name": "stdout",
     "output_type": "stream",
     "text": [
      "<class 'pandas.core.frame.DataFrame'>\n",
      "RangeIndex: 32951 entries, 0 to 32950\n",
      "Data columns (total 9 columns):\n",
      " #   Column                      Non-Null Count  Dtype  \n",
      "---  ------                      --------------  -----  \n",
      " 0   product_id                  32951 non-null  object \n",
      " 1   product_category_name       32341 non-null  object \n",
      " 2   product_name_lenght         32341 non-null  float64\n",
      " 3   product_description_lenght  32341 non-null  float64\n",
      " 4   product_photos_qty          32341 non-null  float64\n",
      " 5   product_weight_g            32949 non-null  float64\n",
      " 6   product_length_cm           32949 non-null  float64\n",
      " 7   product_height_cm           32949 non-null  float64\n",
      " 8   product_width_cm            32949 non-null  float64\n",
      "dtypes: float64(7), object(2)\n",
      "memory usage: 2.3+ MB\n"
     ]
    }
   ],
   "source": [
    "etl.products.info()"
   ]
  },
  {
   "cell_type": "code",
   "execution_count": 12,
   "metadata": {},
   "outputs": [
    {
     "name": "stdout",
     "output_type": "stream",
     "text": [
      "<class 'pandas.core.frame.DataFrame'>\n",
      "RangeIndex: 112650 entries, 0 to 112649\n",
      "Data columns (total 7 columns):\n",
      " #   Column               Non-Null Count   Dtype  \n",
      "---  ------               --------------   -----  \n",
      " 0   order_id             112650 non-null  object \n",
      " 1   order_item_id        112650 non-null  int64  \n",
      " 2   product_id           112650 non-null  object \n",
      " 3   seller_id            112650 non-null  object \n",
      " 4   shipping_limit_date  112650 non-null  object \n",
      " 5   price                112650 non-null  float64\n",
      " 6   freight_value        112650 non-null  float64\n",
      "dtypes: float64(2), int64(1), object(4)\n",
      "memory usage: 6.0+ MB\n"
     ]
    }
   ],
   "source": [
    "etl.order_items.info()"
   ]
  },
  {
   "cell_type": "code",
   "execution_count": 13,
   "metadata": {},
   "outputs": [
    {
     "name": "stdout",
     "output_type": "stream",
     "text": [
      "<class 'pandas.core.frame.DataFrame'>\n",
      "RangeIndex: 8000 entries, 0 to 7999\n",
      "Data columns (total 4 columns):\n",
      " #   Column              Non-Null Count  Dtype \n",
      "---  ------              --------------  ----- \n",
      " 0   mql_id              8000 non-null   object\n",
      " 1   first_contact_date  8000 non-null   object\n",
      " 2   landing_page_id     8000 non-null   object\n",
      " 3   origin              7940 non-null   object\n",
      "dtypes: object(4)\n",
      "memory usage: 250.1+ KB\n"
     ]
    }
   ],
   "source": [
    "etl.marketing_qualified_leads.info()"
   ]
  },
  {
   "cell_type": "code",
   "execution_count": 14,
   "metadata": {},
   "outputs": [
    {
     "name": "stdout",
     "output_type": "stream",
     "text": [
      "<class 'pandas.core.frame.DataFrame'>\n",
      "RangeIndex: 842 entries, 0 to 841\n",
      "Data columns (total 14 columns):\n",
      " #   Column                         Non-Null Count  Dtype  \n",
      "---  ------                         --------------  -----  \n",
      " 0   mql_id                         842 non-null    object \n",
      " 1   seller_id                      842 non-null    object \n",
      " 2   sdr_id                         842 non-null    object \n",
      " 3   sr_id                          842 non-null    object \n",
      " 4   won_date                       842 non-null    object \n",
      " 5   business_segment               841 non-null    object \n",
      " 6   lead_type                      836 non-null    object \n",
      " 7   lead_behaviour_profile         665 non-null    object \n",
      " 8   has_company                    63 non-null     object \n",
      " 9   has_gtin                       64 non-null     object \n",
      " 10  average_stock                  66 non-null     object \n",
      " 11  business_type                  832 non-null    object \n",
      " 12  declared_product_catalog_size  69 non-null     float64\n",
      " 13  declared_monthly_revenue       842 non-null    float64\n",
      "dtypes: float64(2), object(12)\n",
      "memory usage: 92.2+ KB\n"
     ]
    }
   ],
   "source": [
    "etl.close_deals.info()"
   ]
  },
  {
   "cell_type": "code",
   "execution_count": 5,
   "metadata": {},
   "outputs": [],
   "source": [
    "add_product_category = {'product_category_name': ['pc_gamer', 'no_data', 'portateis_cozinha_e_preparadores_de_alimentos'] , 'product_category_name_english': ['pc_gamer', 'no_data','kitchen_portables_and_food_preparators']}\n",
    "etl.transform(add_product_category)"
   ]
  },
  {
   "cell_type": "code",
   "execution_count": 16,
   "metadata": {},
   "outputs": [
    {
     "name": "stdout",
     "output_type": "stream",
     "text": [
      "<class 'pandas.core.frame.DataFrame'>\n",
      "RangeIndex: 15251 entries, 0 to 15250\n",
      "Data columns (total 4 columns):\n",
      " #   Column           Non-Null Count  Dtype \n",
      "---  ------           --------------  ----- \n",
      " 0   geolocation_id   15251 non-null  int64 \n",
      " 1   zip_code_prefix  15251 non-null  int64 \n",
      " 2   city             15251 non-null  object\n",
      " 3   state            15251 non-null  object\n",
      "dtypes: int64(2), object(2)\n",
      "memory usage: 476.7+ KB\n"
     ]
    }
   ],
   "source": [
    "etl.geolocation.info()"
   ]
  },
  {
   "cell_type": "code",
   "execution_count": 17,
   "metadata": {},
   "outputs": [
    {
     "name": "stdout",
     "output_type": "stream",
     "text": [
      "<class 'pandas.core.frame.DataFrame'>\n",
      "Int64Index: 99441 entries, 0 to 99440\n",
      "Data columns (total 2 columns):\n",
      " #   Column          Non-Null Count  Dtype \n",
      "---  ------          --------------  ----- \n",
      " 0   customer_id     99441 non-null  object\n",
      " 1   geolocation_id  99441 non-null  int64 \n",
      "dtypes: int64(1), object(1)\n",
      "memory usage: 2.3+ MB\n"
     ]
    }
   ],
   "source": [
    "etl.customers.info()"
   ]
  },
  {
   "cell_type": "code",
   "execution_count": 18,
   "metadata": {},
   "outputs": [
    {
     "name": "stdout",
     "output_type": "stream",
     "text": [
      "<class 'pandas.core.frame.DataFrame'>\n",
      "Int64Index: 3095 entries, 0 to 3094\n",
      "Data columns (total 2 columns):\n",
      " #   Column          Non-Null Count  Dtype \n",
      "---  ------          --------------  ----- \n",
      " 0   seller_id       3095 non-null   object\n",
      " 1   geolocation_id  3095 non-null   int64 \n",
      "dtypes: int64(1), object(1)\n",
      "memory usage: 72.5+ KB\n"
     ]
    }
   ],
   "source": [
    "etl.sellers.info()"
   ]
  },
  {
   "cell_type": "code",
   "execution_count": 19,
   "metadata": {},
   "outputs": [
    {
     "name": "stdout",
     "output_type": "stream",
     "text": [
      "<class 'pandas.core.frame.DataFrame'>\n",
      "RangeIndex: 99441 entries, 0 to 99440\n",
      "Data columns (total 8 columns):\n",
      " #   Column                         Non-Null Count  Dtype         \n",
      "---  ------                         --------------  -----         \n",
      " 0   order_id                       99441 non-null  object        \n",
      " 1   customer_id                    99441 non-null  object        \n",
      " 2   order_status                   99441 non-null  object        \n",
      " 3   order_purchase_timestamp       99441 non-null  datetime64[ns]\n",
      " 4   order_approved_at              99441 non-null  datetime64[ns]\n",
      " 5   order_delivered_carrier_date   99441 non-null  datetime64[ns]\n",
      " 6   order_delivered_customer_date  99441 non-null  datetime64[ns]\n",
      " 7   order_estimated_delivery_date  99441 non-null  datetime64[ns]\n",
      "dtypes: datetime64[ns](5), object(3)\n",
      "memory usage: 6.1+ MB\n"
     ]
    }
   ],
   "source": [
    "etl.orders.info()"
   ]
  },
  {
   "cell_type": "code",
   "execution_count": 20,
   "metadata": {},
   "outputs": [
    {
     "name": "stdout",
     "output_type": "stream",
     "text": [
      "<class 'pandas.core.frame.DataFrame'>\n",
      "RangeIndex: 99224 entries, 0 to 99223\n",
      "Data columns (total 5 columns):\n",
      " #   Column                   Non-Null Count  Dtype         \n",
      "---  ------                   --------------  -----         \n",
      " 0   review_code              99224 non-null  object        \n",
      " 1   order_id                 99224 non-null  object        \n",
      " 2   review_score             99224 non-null  int64         \n",
      " 3   review_creation_date     99224 non-null  datetime64[ns]\n",
      " 4   review_answer_timestamp  99224 non-null  datetime64[ns]\n",
      "dtypes: datetime64[ns](2), int64(1), object(2)\n",
      "memory usage: 3.8+ MB\n"
     ]
    }
   ],
   "source": [
    "etl.order_reviews.info()"
   ]
  },
  {
   "cell_type": "code",
   "execution_count": 6,
   "metadata": {},
   "outputs": [
    {
     "name": "stdout",
     "output_type": "stream",
     "text": [
      "<class 'pandas.core.frame.DataFrame'>\n",
      "RangeIndex: 103886 entries, 0 to 103885\n",
      "Data columns (total 5 columns):\n",
      " #   Column                Non-Null Count   Dtype  \n",
      "---  ------                --------------   -----  \n",
      " 0   order_id              103886 non-null  object \n",
      " 1   payment_sequential    103886 non-null  int64  \n",
      " 2   payment_type          103886 non-null  object \n",
      " 3   payment_installments  103886 non-null  int64  \n",
      " 4   payment_value         103886 non-null  float64\n",
      "dtypes: float64(1), int64(2), object(2)\n",
      "memory usage: 4.0+ MB\n"
     ]
    }
   ],
   "source": [
    "etl.order_payments.info()"
   ]
  },
  {
   "cell_type": "code",
   "execution_count": 21,
   "metadata": {},
   "outputs": [
    {
     "name": "stdout",
     "output_type": "stream",
     "text": [
      "<class 'pandas.core.frame.DataFrame'>\n",
      "RangeIndex: 74 entries, 0 to 73\n",
      "Data columns (total 3 columns):\n",
      " #   Column                         Non-Null Count  Dtype \n",
      "---  ------                         --------------  ----- \n",
      " 0   product_category_id            74 non-null     int64 \n",
      " 1   product_category_name          74 non-null     object\n",
      " 2   product_category_name_english  74 non-null     object\n",
      "dtypes: int64(1), object(2)\n",
      "memory usage: 1.9+ KB\n"
     ]
    }
   ],
   "source": [
    "etl.product_category.info()"
   ]
  },
  {
   "cell_type": "code",
   "execution_count": 22,
   "metadata": {},
   "outputs": [
    {
     "name": "stdout",
     "output_type": "stream",
     "text": [
      "<class 'pandas.core.frame.DataFrame'>\n",
      "Int64Index: 32951 entries, 0 to 32950\n",
      "Data columns (total 9 columns):\n",
      " #   Column                      Non-Null Count  Dtype \n",
      "---  ------                      --------------  ----- \n",
      " 0   product_id                  32951 non-null  object\n",
      " 1   product_name_lenght         32951 non-null  int64 \n",
      " 2   product_description_lenght  32951 non-null  int64 \n",
      " 3   product_photos_qty          32951 non-null  int64 \n",
      " 4   product_weight_g            32951 non-null  int64 \n",
      " 5   product_length_cm           32951 non-null  int64 \n",
      " 6   product_height_cm           32951 non-null  int64 \n",
      " 7   product_width_cm            32951 non-null  int64 \n",
      " 8   product_category_id         32951 non-null  int64 \n",
      "dtypes: int64(8), object(1)\n",
      "memory usage: 2.5+ MB\n"
     ]
    }
   ],
   "source": [
    "etl.products.info()"
   ]
  },
  {
   "cell_type": "code",
   "execution_count": 23,
   "metadata": {},
   "outputs": [
    {
     "name": "stdout",
     "output_type": "stream",
     "text": [
      "<class 'pandas.core.frame.DataFrame'>\n",
      "RangeIndex: 112650 entries, 0 to 112649\n",
      "Data columns (total 6 columns):\n",
      " #   Column               Non-Null Count   Dtype         \n",
      "---  ------               --------------   -----         \n",
      " 0   order_id             112650 non-null  object        \n",
      " 1   product_id           112650 non-null  object        \n",
      " 2   seller_id            112650 non-null  object        \n",
      " 3   shipping_limit_date  112650 non-null  datetime64[ns]\n",
      " 4   price                112650 non-null  float64       \n",
      " 5   freight_value        112650 non-null  float64       \n",
      "dtypes: datetime64[ns](1), float64(2), object(3)\n",
      "memory usage: 5.2+ MB\n"
     ]
    }
   ],
   "source": [
    "etl.order_items.info()"
   ]
  },
  {
   "cell_type": "code",
   "execution_count": 24,
   "metadata": {},
   "outputs": [
    {
     "name": "stdout",
     "output_type": "stream",
     "text": [
      "<class 'pandas.core.frame.DataFrame'>\n",
      "RangeIndex: 8000 entries, 0 to 7999\n",
      "Data columns (total 4 columns):\n",
      " #   Column              Non-Null Count  Dtype         \n",
      "---  ------              --------------  -----         \n",
      " 0   mql_id              8000 non-null   object        \n",
      " 1   first_contact_date  8000 non-null   datetime64[ns]\n",
      " 2   landing_page_id     8000 non-null   object        \n",
      " 3   origin              8000 non-null   object        \n",
      "dtypes: datetime64[ns](1), object(3)\n",
      "memory usage: 250.1+ KB\n"
     ]
    }
   ],
   "source": [
    "etl.marketing_qualified_leads.info()"
   ]
  },
  {
   "cell_type": "code",
   "execution_count": 25,
   "metadata": {},
   "outputs": [
    {
     "name": "stdout",
     "output_type": "stream",
     "text": [
      "<class 'pandas.core.frame.DataFrame'>\n",
      "RangeIndex: 842 entries, 0 to 841\n",
      "Data columns (total 9 columns):\n",
      " #   Column                    Non-Null Count  Dtype         \n",
      "---  ------                    --------------  -----         \n",
      " 0   mql_id                    842 non-null    object        \n",
      " 1   seller_id                 842 non-null    object        \n",
      " 2   sdr_id                    842 non-null    object        \n",
      " 3   sr_id                     842 non-null    object        \n",
      " 4   won_date                  842 non-null    datetime64[ns]\n",
      " 5   business_segment          842 non-null    object        \n",
      " 6   lead_type                 842 non-null    object        \n",
      " 7   business_type             842 non-null    object        \n",
      " 8   declared_monthly_revenue  842 non-null    float64       \n",
      "dtypes: datetime64[ns](1), float64(1), object(7)\n",
      "memory usage: 59.3+ KB\n"
     ]
    }
   ],
   "source": [
    "etl.close_deals.info()"
   ]
  },
  {
   "cell_type": "code",
   "execution_count": null,
   "metadata": {},
   "outputs": [],
   "source": [
    "etl.load()"
   ]
  }
 ],
 "metadata": {
  "kernelspec": {
   "display_name": "Python 3.10.4 ('venv': venv)",
   "language": "python",
   "name": "python3"
  },
  "language_info": {
   "codemirror_mode": {
    "name": "ipython",
    "version": 3
   },
   "file_extension": ".py",
   "mimetype": "text/x-python",
   "name": "python",
   "nbconvert_exporter": "python",
   "pygments_lexer": "ipython3",
   "version": "3.10.4"
  },
  "orig_nbformat": 4,
  "vscode": {
   "interpreter": {
    "hash": "6d0b3a5e36cf1a8be137012ea91c84b73ab29f441632b2f2cf227441a9789c94"
   }
  }
 },
 "nbformat": 4,
 "nbformat_minor": 2
}
